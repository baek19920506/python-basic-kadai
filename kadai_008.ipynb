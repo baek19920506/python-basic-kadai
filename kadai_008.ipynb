{
  "cells": [
    {
      "cell_type": "markdown",
      "metadata": {
        "id": "C7eBN6CzASDt"
      },
      "source": []
    },
    {
      "cell_type": "code",
      "execution_count": null,
      "metadata": {
        "vscode": {
          "languageId": "plaintext"
        }
      },
      "outputs": [],
      "source": [
        "import random\n",
        "#変数varに1～15までのランダムな整数を代入する\n",
        "var = random.randint(1,300)\n",
        "\n",
        "#3と5の倍数であれば「FizzBuzz」という文字列を出力\n",
        "if var % 15 == 0:\n",
        "  print(\"FizzBuzz\")\n",
        "\n",
        "#3の倍数であれば、「Fizz」という文字列を出力\n",
        "elif var % 3 == 0:\n",
        "    print(\"Fizz\") \n",
        "#5の倍数であれば、「Buzz」という文字列を出力\n",
        "elif var % 5 == 0:\n",
        "    print(\"Buzz\")\n",
        "\n",
        "#上記以外の数字であればそれを出力する\n",
        "else:\n",
        "    print(var)\n",
        "\n",
        "\n",
        "\n",
        "\n"
      ]
    }
  ],
  "metadata": {
    "colab": {
      "provenance": []
    },
    "kernelspec": {
      "display_name": "Python 3",
      "name": "python3"
    },
    "language_info": {
      "name": "python"
    }
  },
  "nbformat": 4,
  "nbformat_minor": 0
}
