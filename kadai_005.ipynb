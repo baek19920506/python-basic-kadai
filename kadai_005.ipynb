{
  "cells": [
    {
      "cell_type": "code",
      "execution_count": 2,
      "metadata": {
        "colab": {
          "base_uri": "https://localhost:8080/"
        },
        "id": "mAQqewlU_KKa",
        "outputId": "c6642096-4e86-42f8-bd3e-e733f4cc7395"
      },
      "outputs": [
        {
          "name": "stdout",
          "output_type": "stream",
          "text": [
            "3\n"
          ]
        }
      ],
      "source": [
        "upline =10\n",
        "downline =20\n",
        "height =5\n",
        "answer=(10+20)*5/2\n",
        "x=\"cm²\"\n",
        "print(str(answer)+x)"
      ]
    }
  ],
  "metadata": {
    "colab": {
      "provenance": []
    },
    "kernelspec": {
      "display_name": "Python 3",
      "name": "python3"
    },
    "language_info": {
      "name": "python"
    }
  },
  "nbformat": 4,
  "nbformat_minor": 0
}
